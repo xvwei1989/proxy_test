{
 "cells": [
  {
   "cell_type": "code",
   "execution_count": 1,
   "metadata": {
    "collapsed": true
   },
   "outputs": [],
   "source": [
    "import requests\n",
    "import re\n",
    "import time\n",
    "import pandas as pd\n",
    "from PIL import Image\n",
    "%matplotlib inline\n",
    "from selenium import webdriver\n",
    "from selenium.common.exceptions import *"
   ]
  },
  {
   "cell_type": "code",
   "execution_count": 19,
   "metadata": {
    "collapsed": true
   },
   "outputs": [],
   "source": [
    "url = 'http://www.xicidaili.com/wt/4'\n",
    "headers = {'User-Agent':'Mozilla/5.0 (Macintosh; Intel Mac OS X 10_10_5) AppleWebKit/537.36 (KHTML, like Gecko) Chrome/62.0.3202.94 Safari/537.36'}\n",
    "url1 = 'http://read.douban.com/reader/column/7709247/chapter/42755160/'"
   ]
  },
  {
   "cell_type": "code",
   "execution_count": 20,
   "metadata": {
    "collapsed": true
   },
   "outputs": [],
   "source": [
    "url2 = 'http://ip.chinaz.com/getip.aspx'"
   ]
  },
  {
   "cell_type": "code",
   "execution_count": 21,
   "metadata": {
    "collapsed": true
   },
   "outputs": [],
   "source": [
    "a = requests.get(url,headers=headers)\n",
    "pat = re.compile(u'<td>([0-9]{1,3}.[0-9]{1,3}.[0-9]{1,3}.[0-9]{1,3})</td>\\n      <td>([0-9]{2,4})</td>\\n')\n",
    "t = pat.findall(a.text)"
   ]
  },
  {
   "cell_type": "code",
   "execution_count": null,
   "metadata": {
    "collapsed": true
   },
   "outputs": [],
   "source": []
  },
  {
   "cell_type": "code",
   "execution_count": null,
   "metadata": {},
   "outputs": [
    {
     "name": "stdout",
     "output_type": "stream",
     "text": [
      "--proxy=27.44.161.190:9797\n",
      "webpage not loaded\n",
      "--proxy=219.138.58.217:3128\n",
      "request timeout\n",
      "--proxy=182.88.236.33:9797\n",
      "request timeout\n",
      "--proxy=163.125.240.17:9797\n",
      "request timeout\n",
      "--proxy=202.194.14.72:8118\n",
      "webpage not loaded\n",
      "--proxy=112.114.92.10:8118\n",
      "webpage not loaded\n",
      "--proxy=221.201.48.212:8080\n",
      "request timeout\n",
      "--proxy=110.73.13.35:8123\n",
      "request timeout\n",
      "--proxy=110.73.43.221:8123\n",
      "request timeout\n",
      "--proxy=14.211.124.34:9797\n",
      "request timeout\n",
      "--proxy=27.46.36.152:9797\n",
      "request timeout\n",
      "--proxy=171.39.74.129:8123\n",
      "request timeout\n",
      "--proxy=110.73.197.90:8123\n",
      "webpage not loaded\n",
      "--proxy=110.73.53.183:8123\n",
      "webpage not loaded\n",
      "--proxy=220.173.47.13:8123\n",
      "request timeout\n",
      "--proxy=112.93.163.29:9797\n",
      "request timeout\n",
      "--proxy=106.113.243.118:9999\n",
      "request timeout\n",
      "--proxy=223.241.78.156:8010\n",
      "webpage not loaded\n",
      "--proxy=223.241.78.125:8010\n",
      "webpage not loaded\n",
      "--proxy=27.46.74.40:9999\n",
      "request timeout\n",
      "--proxy=171.36.165.174:9797\n",
      "request timeout\n",
      "--proxy=27.46.74.32:9999\n",
      "request timeout\n",
      "--proxy=113.92.95.180:9797\n",
      "request timeout\n",
      "--proxy=223.241.78.191:8010\n",
      "webpage not loaded\n",
      "--proxy=202.99.68.138:8123\n",
      "request timeout\n",
      "--proxy=113.83.248.54:9000\n",
      "request timeout\n",
      "--proxy=113.251.170.122:8123\n",
      "request timeout\n",
      "--proxy=121.31.102.69:8123\n",
      "request timeout\n",
      "--proxy=171.39.43.241:8123\n",
      "request timeout\n",
      "--proxy=27.46.23.183:8888\n",
      "request timeout\n",
      "--proxy=60.191.134.165:9999\n",
      "request timeout\n",
      "--proxy=182.121.204.118:9999\n",
      "webpage not loaded\n",
      "--proxy=218.19.246.11:9000\n",
      "request timeout\n",
      "--proxy=106.113.242.117:9999\n",
      "webpage not loaded\n",
      "--proxy=223.241.118.176:8010\n",
      "webpage not loaded\n",
      "--proxy=182.88.160.138:9797\n",
      "request timeout\n",
      "--proxy=110.73.53.97:8123\n",
      "request timeout\n",
      "--proxy=110.73.14.218:8123\n",
      "request timeout\n",
      "--proxy=112.67.165.25:9797\n",
      "request timeout\n",
      "--proxy=121.31.102.102:8123\n",
      "request timeout\n",
      "--proxy=27.46.74.27:9999\n"
     ]
    }
   ],
   "source": [
    "for k in t:    \n",
    "    service_args = [\n",
    "        '--proxy={}:{}'.format(k[0],k[1]),\n",
    "        '--proxy-type=http',\n",
    "        ]\n",
    "#     service_args = [\n",
    "#         '--proxy=127.0.0.1:1080',\n",
    "#         '--proxy-type=socks5'\n",
    "#     ]\n",
    "    print service_args[0]\n",
    "\n",
    "    b = webdriver.PhantomJS(service_args=service_args)\n",
    "    b.implicitly_wait(10)\n",
    "    b.set_page_load_timeout(20)\n",
    "    try:\n",
    "        b.get('http://read.douban.com/reader/column/7709247/chapter/42755160/')\n",
    "    except TimeoutException:\n",
    "        print 'request timeout'\n",
    "        continue\n",
    "    try:\n",
    "        y = b.find_element_by_class_name('responses')\n",
    "        y1 = y.find_element_by_class_name('read-count')\n",
    "        print y1.get_property('count')\n",
    "        b.close()\n",
    "    except:\n",
    "        print 'webpage not loaded'\n",
    "        b.close()\n",
    "\n",
    "    "
   ]
  },
  {
   "cell_type": "code",
   "execution_count": 213,
   "metadata": {},
   "outputs": [
    {
     "data": {
      "text/plain": [
       "True"
      ]
     },
     "execution_count": 213,
     "metadata": {},
     "output_type": "execute_result"
    }
   ],
   "source": [
    "b.save_screenshot('a.png')"
   ]
  },
  {
   "cell_type": "code",
   "execution_count": 216,
   "metadata": {
    "collapsed": true
   },
   "outputs": [],
   "source": [
    "y = b.find_element_by_class_name('responses')\n",
    "y1 = y.find_element_by_class_name('read-count')"
   ]
  },
  {
   "cell_type": "code",
   "execution_count": 214,
   "metadata": {
    "collapsed": true,
    "scrolled": true
   },
   "outputs": [],
   "source": [
    "a = Image.open('a.png')\n",
    "a.show()"
   ]
  },
  {
   "cell_type": "code",
   "execution_count": 176,
   "metadata": {},
   "outputs": [
    {
     "data": {
      "text/plain": [
       "True"
      ]
     },
     "execution_count": 176,
     "metadata": {},
     "output_type": "execute_result"
    }
   ],
   "source": [
    "y1.screenshot('a.png')"
   ]
  },
  {
   "cell_type": "code",
   "execution_count": 168,
   "metadata": {
    "collapsed": true
   },
   "outputs": [],
   "source": [
    "f = open('a.png','wb')"
   ]
  },
  {
   "cell_type": "code",
   "execution_count": 169,
   "metadata": {
    "collapsed": true
   },
   "outputs": [],
   "source": [
    "f.writelines(y1.screenshot_as_png)"
   ]
  },
  {
   "cell_type": "code",
   "execution_count": 170,
   "metadata": {
    "collapsed": true
   },
   "outputs": [],
   "source": [
    "f.close()"
   ]
  },
  {
   "cell_type": "code",
   "execution_count": 181,
   "metadata": {},
   "outputs": [
    {
     "data": {
      "text/plain": [
       "u'45'"
      ]
     },
     "execution_count": 181,
     "metadata": {},
     "output_type": "execute_result"
    }
   ],
   "source": [
    "y1.get_attribute('count')"
   ]
  },
  {
   "cell_type": "code",
   "execution_count": null,
   "metadata": {
    "collapsed": true
   },
   "outputs": [],
   "source": []
  }
 ],
 "metadata": {
  "kernelspec": {
   "display_name": "Python 2",
   "language": "python",
   "name": "python2"
  },
  "language_info": {
   "codemirror_mode": {
    "name": "ipython",
    "version": 2
   },
   "file_extension": ".py",
   "mimetype": "text/x-python",
   "name": "python",
   "nbconvert_exporter": "python",
   "pygments_lexer": "ipython2",
   "version": "2.7.13"
  }
 },
 "nbformat": 4,
 "nbformat_minor": 2
}
